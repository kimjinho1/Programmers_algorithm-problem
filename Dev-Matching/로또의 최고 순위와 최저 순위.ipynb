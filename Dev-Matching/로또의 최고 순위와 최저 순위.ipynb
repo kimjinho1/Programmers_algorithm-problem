{
 "cells": [
  {
   "cell_type": "code",
   "execution_count": 2,
   "id": "f337a3df",
   "metadata": {
    "ExecuteTime": {
     "end_time": "2021-07-27T07:04:46.195534Z",
     "start_time": "2021-07-27T07:04:46.186503Z"
    }
   },
   "outputs": [],
   "source": [
    "def solution(lottos, win_nums):\n",
    "    t = lottos.count(0)\n",
    "    cnt = len([n for n in lottos if n in win_nums])\n",
    "    rank = [6, 6, 5, 4, 3, 2, 1]\n",
    "    \n",
    "    return rank[t+cnt], rank[cnt]"
   ]
  },
  {
   "cell_type": "code",
   "execution_count": 3,
   "id": "c5e57e30",
   "metadata": {
    "ExecuteTime": {
     "end_time": "2021-07-27T07:04:46.465220Z",
     "start_time": "2021-07-27T07:04:46.438290Z"
    }
   },
   "outputs": [
    {
     "data": {
      "text/plain": [
       "(3, 5)"
      ]
     },
     "execution_count": 3,
     "metadata": {},
     "output_type": "execute_result"
    }
   ],
   "source": [
    "solution([44, 1, 0, 0, 31, 25], [31, 10, 45, 1, 6, 19])"
   ]
  },
  {
   "cell_type": "code",
   "execution_count": 4,
   "id": "9375cfeb",
   "metadata": {
    "ExecuteTime": {
     "end_time": "2021-07-27T07:05:22.646869Z",
     "start_time": "2021-07-27T07:05:22.621936Z"
    }
   },
   "outputs": [
    {
     "data": {
      "text/plain": [
       "(1, 6)"
      ]
     },
     "execution_count": 4,
     "metadata": {},
     "output_type": "execute_result"
    }
   ],
   "source": [
    "solution([0, 0, 0, 0, 0, 0], [38, 19, 20, 40, 15, 25])"
   ]
  },
  {
   "cell_type": "code",
   "execution_count": 5,
   "id": "d3d2c0b4",
   "metadata": {
    "ExecuteTime": {
     "end_time": "2021-07-27T07:05:24.613230Z",
     "start_time": "2021-07-27T07:05:24.603274Z"
    }
   },
   "outputs": [
    {
     "data": {
      "text/plain": [
       "(1, 1)"
      ]
     },
     "execution_count": 5,
     "metadata": {},
     "output_type": "execute_result"
    }
   ],
   "source": [
    "solution([45, 4, 35, 20, 3, 9], [20, 9, 3, 45, 4, 35])"
   ]
  },
  {
   "cell_type": "code",
   "execution_count": null,
   "id": "d2e776fe",
   "metadata": {},
   "outputs": [],
   "source": []
  }
 ],
 "metadata": {
  "kernelspec": {
   "display_name": "Python 3",
   "language": "python",
   "name": "python3"
  },
  "language_info": {
   "codemirror_mode": {
    "name": "ipython",
    "version": 3
   },
   "file_extension": ".py",
   "mimetype": "text/x-python",
   "name": "python",
   "nbconvert_exporter": "python",
   "pygments_lexer": "ipython3",
   "version": "3.8.5"
  },
  "toc": {
   "base_numbering": 1,
   "nav_menu": {},
   "number_sections": true,
   "sideBar": true,
   "skip_h1_title": false,
   "title_cell": "Table of Contents",
   "title_sidebar": "Contents",
   "toc_cell": false,
   "toc_position": {},
   "toc_section_display": true,
   "toc_window_display": false
  },
  "varInspector": {
   "cols": {
    "lenName": 16,
    "lenType": 16,
    "lenVar": 40
   },
   "kernels_config": {
    "python": {
     "delete_cmd_postfix": "",
     "delete_cmd_prefix": "del ",
     "library": "var_list.py",
     "varRefreshCmd": "print(var_dic_list())"
    },
    "r": {
     "delete_cmd_postfix": ") ",
     "delete_cmd_prefix": "rm(",
     "library": "var_list.r",
     "varRefreshCmd": "cat(var_dic_list()) "
    }
   },
   "types_to_exclude": [
    "module",
    "function",
    "builtin_function_or_method",
    "instance",
    "_Feature"
   ],
   "window_display": false
  }
 },
 "nbformat": 4,
 "nbformat_minor": 5
}
